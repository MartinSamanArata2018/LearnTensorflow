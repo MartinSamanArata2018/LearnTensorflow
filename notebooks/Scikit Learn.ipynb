{
 "cells": [
  {
   "cell_type": "code",
   "execution_count": 2,
   "metadata": {},
   "outputs": [],
   "source": [
    "import pandas as pd\n",
    "import numpy as np\n",
    "from sklearn.model_selection import train_test_split"
   ]
  },
  {
   "cell_type": "code",
   "execution_count": 3,
   "metadata": {},
   "outputs": [
    {
     "data": {
      "text/plain": [
       "array([[98, 68, 35, 28],\n",
       "       [87, 30, 95, 58],\n",
       "       [89, 25, 92, 48],\n",
       "       [ 0, 97, 79, 12],\n",
       "       [43, 43, 81, 65],\n",
       "       [69, 54, 54, 30],\n",
       "       [16,  9, 79, 18],\n",
       "       [11, 31, 80, 71],\n",
       "       [95, 95, 48, 39],\n",
       "       [68, 27, 73, 44],\n",
       "       [54,  3, 22, 34],\n",
       "       [93, 87, 93, 40],\n",
       "       [95, 68, 31, 57],\n",
       "       [96, 38, 28,  4],\n",
       "       [31, 64, 68, 80],\n",
       "       [26, 68, 17, 88],\n",
       "       [54, 80, 44,  4],\n",
       "       [97, 15, 16, 42],\n",
       "       [81, 65, 51, 19],\n",
       "       [60, 31, 56, 32],\n",
       "       [59, 82, 40, 19],\n",
       "       [32,  0, 49, 70],\n",
       "       [17, 13, 89, 94],\n",
       "       [22, 53, 31, 40],\n",
       "       [40, 19, 41,  2],\n",
       "       [33, 71, 11, 83],\n",
       "       [66, 22, 56, 92],\n",
       "       [10, 65, 93, 39],\n",
       "       [51, 85, 72, 71],\n",
       "       [71, 81, 22, 13],\n",
       "       [82, 97, 79, 46],\n",
       "       [73, 28, 59, 46],\n",
       "       [27, 59, 46, 25],\n",
       "       [47, 40, 91, 67],\n",
       "       [ 3, 21, 91, 44],\n",
       "       [38, 65, 85, 52],\n",
       "       [52, 50, 88, 55],\n",
       "       [95, 46, 90, 40],\n",
       "       [34, 87, 54, 39],\n",
       "       [92, 50, 72, 51],\n",
       "       [14, 69, 93, 25],\n",
       "       [13, 46, 25, 79],\n",
       "       [36, 97, 71, 89],\n",
       "       [24, 58, 15, 22],\n",
       "       [ 7, 15, 26, 99],\n",
       "       [66, 14, 85, 89],\n",
       "       [ 4, 15, 71, 82],\n",
       "       [30, 49,  0, 92],\n",
       "       [ 0, 56, 68, 21],\n",
       "       [70, 90, 45, 14],\n",
       "       [12,  9, 15, 67],\n",
       "       [51, 47, 34, 29],\n",
       "       [91, 48, 23, 94],\n",
       "       [33, 99, 64, 31],\n",
       "       [74,  7, 60, 57],\n",
       "       [ 0, 89, 92, 80],\n",
       "       [94, 37,  6, 70],\n",
       "       [74, 55, 73, 79],\n",
       "       [74, 15, 32, 16],\n",
       "       [61, 90, 19, 65],\n",
       "       [70, 23, 58,  2],\n",
       "       [75, 76, 46, 58],\n",
       "       [59, 44, 49, 35],\n",
       "       [81, 96, 66,  2],\n",
       "       [37, 61, 67, 38],\n",
       "       [88, 53, 65, 18],\n",
       "       [57, 29, 59, 95],\n",
       "       [79, 75, 86, 88],\n",
       "       [88, 43, 42, 36],\n",
       "       [67, 70, 51,  5],\n",
       "       [19, 18, 30, 11],\n",
       "       [34, 76, 84,  0],\n",
       "       [27, 45, 39, 13],\n",
       "       [93, 32, 66, 89],\n",
       "       [57, 60, 81, 53],\n",
       "       [84, 85, 79, 13],\n",
       "       [37, 69, 71, 35],\n",
       "       [ 4,  0, 36, 28],\n",
       "       [79,  0, 44, 61],\n",
       "       [78,  2,  5, 91],\n",
       "       [73, 85, 55, 17],\n",
       "       [23, 50, 32, 91],\n",
       "       [51, 28, 25, 99],\n",
       "       [12, 82, 76, 27],\n",
       "       [78, 42, 78, 92],\n",
       "       [19, 34, 97, 58],\n",
       "       [47, 26, 95,  9],\n",
       "       [73, 92, 29, 28],\n",
       "       [ 1, 34, 77, 54],\n",
       "       [30, 11, 40, 93],\n",
       "       [63, 31, 61, 32],\n",
       "       [45, 57, 48, 12],\n",
       "       [55, 98,  5,  8],\n",
       "       [ 7, 87, 47, 64],\n",
       "       [60, 96,  9, 76],\n",
       "       [73, 82,  2, 92],\n",
       "       [89, 55, 41,  4],\n",
       "       [26, 59, 67, 13],\n",
       "       [11, 76, 96,  3],\n",
       "       [74, 35, 11, 50]])"
      ]
     },
     "execution_count": 3,
     "metadata": {},
     "output_type": "execute_result"
    }
   ],
   "source": [
    "datos = np.random.randint(0,100,(100,4))\n",
    "datos"
   ]
  },
  {
   "cell_type": "code",
   "execution_count": 4,
   "metadata": {},
   "outputs": [],
   "source": [
    "dataframe = pd.DataFrame(data=datos,columns=['c1','c2','c3','etiqueta'])"
   ]
  },
  {
   "cell_type": "code",
   "execution_count": 5,
   "metadata": {},
   "outputs": [
    {
     "data": {
      "text/html": [
       "<div>\n",
       "<style scoped>\n",
       "    .dataframe tbody tr th:only-of-type {\n",
       "        vertical-align: middle;\n",
       "    }\n",
       "\n",
       "    .dataframe tbody tr th {\n",
       "        vertical-align: top;\n",
       "    }\n",
       "\n",
       "    .dataframe thead th {\n",
       "        text-align: right;\n",
       "    }\n",
       "</style>\n",
       "<table border=\"1\" class=\"dataframe\">\n",
       "  <thead>\n",
       "    <tr style=\"text-align: right;\">\n",
       "      <th></th>\n",
       "      <th>c1</th>\n",
       "      <th>c2</th>\n",
       "      <th>c3</th>\n",
       "      <th>etiqueta</th>\n",
       "    </tr>\n",
       "  </thead>\n",
       "  <tbody>\n",
       "    <tr>\n",
       "      <td>0</td>\n",
       "      <td>98</td>\n",
       "      <td>68</td>\n",
       "      <td>35</td>\n",
       "      <td>28</td>\n",
       "    </tr>\n",
       "    <tr>\n",
       "      <td>1</td>\n",
       "      <td>87</td>\n",
       "      <td>30</td>\n",
       "      <td>95</td>\n",
       "      <td>58</td>\n",
       "    </tr>\n",
       "    <tr>\n",
       "      <td>2</td>\n",
       "      <td>89</td>\n",
       "      <td>25</td>\n",
       "      <td>92</td>\n",
       "      <td>48</td>\n",
       "    </tr>\n",
       "    <tr>\n",
       "      <td>3</td>\n",
       "      <td>0</td>\n",
       "      <td>97</td>\n",
       "      <td>79</td>\n",
       "      <td>12</td>\n",
       "    </tr>\n",
       "    <tr>\n",
       "      <td>4</td>\n",
       "      <td>43</td>\n",
       "      <td>43</td>\n",
       "      <td>81</td>\n",
       "      <td>65</td>\n",
       "    </tr>\n",
       "    <tr>\n",
       "      <td>...</td>\n",
       "      <td>...</td>\n",
       "      <td>...</td>\n",
       "      <td>...</td>\n",
       "      <td>...</td>\n",
       "    </tr>\n",
       "    <tr>\n",
       "      <td>95</td>\n",
       "      <td>73</td>\n",
       "      <td>82</td>\n",
       "      <td>2</td>\n",
       "      <td>92</td>\n",
       "    </tr>\n",
       "    <tr>\n",
       "      <td>96</td>\n",
       "      <td>89</td>\n",
       "      <td>55</td>\n",
       "      <td>41</td>\n",
       "      <td>4</td>\n",
       "    </tr>\n",
       "    <tr>\n",
       "      <td>97</td>\n",
       "      <td>26</td>\n",
       "      <td>59</td>\n",
       "      <td>67</td>\n",
       "      <td>13</td>\n",
       "    </tr>\n",
       "    <tr>\n",
       "      <td>98</td>\n",
       "      <td>11</td>\n",
       "      <td>76</td>\n",
       "      <td>96</td>\n",
       "      <td>3</td>\n",
       "    </tr>\n",
       "    <tr>\n",
       "      <td>99</td>\n",
       "      <td>74</td>\n",
       "      <td>35</td>\n",
       "      <td>11</td>\n",
       "      <td>50</td>\n",
       "    </tr>\n",
       "  </tbody>\n",
       "</table>\n",
       "<p>100 rows × 4 columns</p>\n",
       "</div>"
      ],
      "text/plain": [
       "    c1  c2  c3  etiqueta\n",
       "0   98  68  35        28\n",
       "1   87  30  95        58\n",
       "2   89  25  92        48\n",
       "3    0  97  79        12\n",
       "4   43  43  81        65\n",
       "..  ..  ..  ..       ...\n",
       "95  73  82   2        92\n",
       "96  89  55  41         4\n",
       "97  26  59  67        13\n",
       "98  11  76  96         3\n",
       "99  74  35  11        50\n",
       "\n",
       "[100 rows x 4 columns]"
      ]
     },
     "execution_count": 5,
     "metadata": {},
     "output_type": "execute_result"
    }
   ],
   "source": [
    "dataframe"
   ]
  },
  {
   "cell_type": "code",
   "execution_count": 6,
   "metadata": {},
   "outputs": [
    {
     "data": {
      "text/html": [
       "<div>\n",
       "<style scoped>\n",
       "    .dataframe tbody tr th:only-of-type {\n",
       "        vertical-align: middle;\n",
       "    }\n",
       "\n",
       "    .dataframe tbody tr th {\n",
       "        vertical-align: top;\n",
       "    }\n",
       "\n",
       "    .dataframe thead th {\n",
       "        text-align: right;\n",
       "    }\n",
       "</style>\n",
       "<table border=\"1\" class=\"dataframe\">\n",
       "  <thead>\n",
       "    <tr style=\"text-align: right;\">\n",
       "      <th></th>\n",
       "      <th>c1</th>\n",
       "      <th>c2</th>\n",
       "      <th>c3</th>\n",
       "    </tr>\n",
       "  </thead>\n",
       "  <tbody>\n",
       "    <tr>\n",
       "      <td>0</td>\n",
       "      <td>98</td>\n",
       "      <td>68</td>\n",
       "      <td>35</td>\n",
       "    </tr>\n",
       "    <tr>\n",
       "      <td>1</td>\n",
       "      <td>87</td>\n",
       "      <td>30</td>\n",
       "      <td>95</td>\n",
       "    </tr>\n",
       "    <tr>\n",
       "      <td>2</td>\n",
       "      <td>89</td>\n",
       "      <td>25</td>\n",
       "      <td>92</td>\n",
       "    </tr>\n",
       "    <tr>\n",
       "      <td>3</td>\n",
       "      <td>0</td>\n",
       "      <td>97</td>\n",
       "      <td>79</td>\n",
       "    </tr>\n",
       "    <tr>\n",
       "      <td>4</td>\n",
       "      <td>43</td>\n",
       "      <td>43</td>\n",
       "      <td>81</td>\n",
       "    </tr>\n",
       "    <tr>\n",
       "      <td>...</td>\n",
       "      <td>...</td>\n",
       "      <td>...</td>\n",
       "      <td>...</td>\n",
       "    </tr>\n",
       "    <tr>\n",
       "      <td>95</td>\n",
       "      <td>73</td>\n",
       "      <td>82</td>\n",
       "      <td>2</td>\n",
       "    </tr>\n",
       "    <tr>\n",
       "      <td>96</td>\n",
       "      <td>89</td>\n",
       "      <td>55</td>\n",
       "      <td>41</td>\n",
       "    </tr>\n",
       "    <tr>\n",
       "      <td>97</td>\n",
       "      <td>26</td>\n",
       "      <td>59</td>\n",
       "      <td>67</td>\n",
       "    </tr>\n",
       "    <tr>\n",
       "      <td>98</td>\n",
       "      <td>11</td>\n",
       "      <td>76</td>\n",
       "      <td>96</td>\n",
       "    </tr>\n",
       "    <tr>\n",
       "      <td>99</td>\n",
       "      <td>74</td>\n",
       "      <td>35</td>\n",
       "      <td>11</td>\n",
       "    </tr>\n",
       "  </tbody>\n",
       "</table>\n",
       "<p>100 rows × 3 columns</p>\n",
       "</div>"
      ],
      "text/plain": [
       "    c1  c2  c3\n",
       "0   98  68  35\n",
       "1   87  30  95\n",
       "2   89  25  92\n",
       "3    0  97  79\n",
       "4   43  43  81\n",
       "..  ..  ..  ..\n",
       "95  73  82   2\n",
       "96  89  55  41\n",
       "97  26  59  67\n",
       "98  11  76  96\n",
       "99  74  35  11\n",
       "\n",
       "[100 rows x 3 columns]"
      ]
     },
     "execution_count": 6,
     "metadata": {},
     "output_type": "execute_result"
    }
   ],
   "source": [
    "x = dataframe[['c1','c2','c3']]\n",
    "x"
   ]
  },
  {
   "cell_type": "code",
   "execution_count": 7,
   "metadata": {},
   "outputs": [
    {
     "data": {
      "text/plain": [
       "0     28\n",
       "1     58\n",
       "2     48\n",
       "3     12\n",
       "4     65\n",
       "      ..\n",
       "95    92\n",
       "96     4\n",
       "97    13\n",
       "98     3\n",
       "99    50\n",
       "Name: etiqueta, Length: 100, dtype: int32"
      ]
     },
     "execution_count": 7,
     "metadata": {},
     "output_type": "execute_result"
    }
   ],
   "source": [
    "y = dataframe['etiqueta']\n",
    "y"
   ]
  },
  {
   "cell_type": "code",
   "execution_count": 8,
   "metadata": {},
   "outputs": [],
   "source": [
    "x_train, x_test, y_train, y_test = train_test_split(x,y,test_size=0.3)"
   ]
  },
  {
   "cell_type": "code",
   "execution_count": 9,
   "metadata": {},
   "outputs": [
    {
     "data": {
      "text/plain": [
       "(70, 3)"
      ]
     },
     "execution_count": 9,
     "metadata": {},
     "output_type": "execute_result"
    }
   ],
   "source": [
    "x_train.shape"
   ]
  },
  {
   "cell_type": "code",
   "execution_count": 10,
   "metadata": {},
   "outputs": [
    {
     "data": {
      "text/plain": [
       "(30, 3)"
      ]
     },
     "execution_count": 10,
     "metadata": {},
     "output_type": "execute_result"
    }
   ],
   "source": [
    "x_test.shape"
   ]
  },
  {
   "cell_type": "code",
   "execution_count": 11,
   "metadata": {},
   "outputs": [
    {
     "data": {
      "text/plain": [
       "(70,)"
      ]
     },
     "execution_count": 11,
     "metadata": {},
     "output_type": "execute_result"
    }
   ],
   "source": [
    "y_train.shape"
   ]
  },
  {
   "cell_type": "code",
   "execution_count": 12,
   "metadata": {},
   "outputs": [
    {
     "data": {
      "text/plain": [
       "(30,)"
      ]
     },
     "execution_count": 12,
     "metadata": {},
     "output_type": "execute_result"
    }
   ],
   "source": [
    "y_test.shape"
   ]
  },
  {
   "cell_type": "code",
   "execution_count": null,
   "metadata": {},
   "outputs": [],
   "source": []
  }
 ],
 "metadata": {
  "kernelspec": {
   "display_name": "Python 3",
   "language": "python",
   "name": "python3"
  },
  "language_info": {
   "codemirror_mode": {
    "name": "ipython",
    "version": 3
   },
   "file_extension": ".py",
   "mimetype": "text/x-python",
   "name": "python",
   "nbconvert_exporter": "python",
   "pygments_lexer": "ipython3",
   "version": "3.7.4"
  }
 },
 "nbformat": 4,
 "nbformat_minor": 2
}
